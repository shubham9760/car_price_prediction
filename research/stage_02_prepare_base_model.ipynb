{
 "cells": [
  {
   "cell_type": "code",
   "execution_count": 1,
   "id": "6bf0eb12",
   "metadata": {},
   "outputs": [],
   "source": [
    "import os"
   ]
  },
  {
   "cell_type": "code",
   "execution_count": 2,
   "id": "d1b83057",
   "metadata": {},
   "outputs": [
    {
     "data": {
      "text/plain": [
       "'f:\\\\Self Learning\\\\car_price_prediction\\\\research'"
      ]
     },
     "execution_count": 2,
     "metadata": {},
     "output_type": "execute_result"
    }
   ],
   "source": [
    "%pwd"
   ]
  },
  {
   "cell_type": "code",
   "execution_count": 3,
   "id": "5c0e24ce",
   "metadata": {},
   "outputs": [],
   "source": [
    "os.chdir(\"../\")"
   ]
  },
  {
   "cell_type": "code",
   "execution_count": 4,
   "id": "c5bb5f3c",
   "metadata": {},
   "outputs": [
    {
     "data": {
      "text/plain": [
       "'f:\\\\Self Learning\\\\car_price_prediction'"
      ]
     },
     "execution_count": 4,
     "metadata": {},
     "output_type": "execute_result"
    }
   ],
   "source": [
    "%pwd"
   ]
  },
  {
   "cell_type": "code",
   "execution_count": 5,
   "id": "0ea0bdd9",
   "metadata": {},
   "outputs": [],
   "source": [
    "from dataclasses import dataclass\n",
    "from pathlib import Path\n",
    "from typing import List\n",
    "\n",
    "@dataclass(frozen=True)\n",
    "class DataIngestionConfig:\n",
    "    root_dir: Path\n",
    "    source_URL: str\n",
    "    local_data_file: Path\n",
    "    unzip_dir: Path\n",
    "    \n",
    "@dataclass\n",
    "class PrepareBaseModelConfig:\n",
    "    base_model_path: Path\n",
    "    updated_base_model_path: Path\n",
    "    feature_columns: List[str]\n",
    "    target_column: str\n",
    "    test_data_path: Path\n",
    "\n",
    "@dataclass\n",
    "class PreprocessingConfig:\n",
    "    target_column: str\n",
    "    test_size: float\n",
    "    random_state: int"
   ]
  },
  {
   "cell_type": "code",
   "execution_count": 6,
   "id": "865186d8",
   "metadata": {},
   "outputs": [],
   "source": [
    "from car_price_prediction.constants import *\n",
    "from car_price_prediction.utils.common import read_yaml, create_directories"
   ]
  },
  {
   "cell_type": "code",
   "execution_count": 7,
   "id": "50fe4cb4",
   "metadata": {},
   "outputs": [],
   "source": [
    "import os\n",
    "import urllib.request as request\n",
    "from zipfile import ZipFile"
   ]
  },
  {
   "cell_type": "code",
   "execution_count": 16,
   "id": "f84029ac",
   "metadata": {},
   "outputs": [],
   "source": [
    "import os\n",
    "import joblib\n",
    "from sklearn.linear_model import LinearRegression\n",
    "from pathlib import Path\n",
    "from typing import Optional\n",
    "import pandas as pd\n",
    "\n",
    "from car_price_prediction.entity.config_entity import PrepareBaseModelConfig\n",
    "\n",
    "class PrepareBaseModel:\n",
    "    def __init__(self, config: PrepareBaseModelConfig):\n",
    "        self.config = config\n",
    "        self.model = None\n",
    "        self.full_model = None\n",
    "\n",
    "    def get_base_model(self):\n",
    "        \"\"\"Initialize base Linear Regression model\"\"\"\n",
    "        self.model = LinearRegression()\n",
    "        self.save_model(self.config.base_model_path, self.model)\n",
    "\n",
    "    @staticmethod\n",
    "    def _prepare_full_model(model: LinearRegression, X: pd.DataFrame, y: pd.Series):\n",
    "        \"\"\"Train the linear regression model on the dataset\"\"\"\n",
    "        model.fit(X, y)\n",
    "        return model\n",
    "\n",
    "    def update_base_model(self):\n",
    "        df = pd.read_csv(self.config.test_data_path)\n",
    "\n",
    "        # ✅ Clean column names\n",
    "        df.columns = df.columns.str.replace(\",\", \"\", regex=False).str.strip()\n",
    "\n",
    "        # ✅ Replace bad string values with NaN\n",
    "        df.replace(\"-\", pd.NA, inplace=True)\n",
    "\n",
    "        # ✅ Drop rows missing target column\n",
    "        df.dropna(subset=[self.config.target_column], inplace=True)\n",
    "\n",
    "        # ✅ Convert all feature columns to numeric\n",
    "        for col in self.config.feature_columns:\n",
    "            df[col] = pd.to_numeric(df[col], errors=\"coerce\")\n",
    "\n",
    "        # ✅ Drop rows where all features are NaN\n",
    "        df.dropna(subset=self.config.feature_columns, how='any', inplace=True)\n",
    "\n",
    "        # 🚨 Guard: ensure dataset isn't empty\n",
    "        if df.empty:\n",
    "            raise ValueError(\"❌ No valid data left after cleaning. Please check your dataset and params.yaml.\")\n",
    "\n",
    "        # ✅ Debug logs\n",
    "        print(\"✅ Final columns:\", df.columns.tolist())\n",
    "        print(f\"✅ Using {len(df)} samples for training.\")\n",
    "        print(\"✅ Features Preview:\")\n",
    "        print(df[self.config.feature_columns].head())\n",
    "\n",
    "        # ✅ Prepare features and target\n",
    "        X = df[self.config.feature_columns]\n",
    "        y = df[self.config.target_column]\n",
    "\n",
    "        # ✅ Train model\n",
    "        self.full_model = self._prepare_full_model(self.model, X, y)\n",
    "\n",
    "        # ✅ Save the updated model\n",
    "        self.save_model(self.config.updated_base_model_path, self.full_model)\n",
    "\n",
    "    @staticmethod\n",
    "    def save_model(path: Path, model: LinearRegression):\n",
    "        \"\"\"Save model using joblib\"\"\"\n",
    "        os.makedirs(path.parent, exist_ok=True)\n",
    "        joblib.dump(model, path)\n"
   ]
  },
  {
   "cell_type": "code",
   "execution_count": 17,
   "id": "2d2a52d1",
   "metadata": {},
   "outputs": [],
   "source": [
    "from car_price_prediction.entity.config_entity import (\n",
    "    DataIngestionConfig,\n",
    "    PreprocessingConfig,\n",
    "    PrepareBaseModelConfig\n",
    ")\n",
    "from car_price_prediction.utils.common import read_yaml\n",
    "from car_price_prediction.constants import CONFIG_FILE_PATH, PARAMS_FILE_PATH\n",
    "\n",
    "class ConfigurationManager:\n",
    "    def __init__(self, config_path=CONFIG_FILE_PATH, params_path=PARAMS_FILE_PATH):\n",
    "        self.config = read_yaml(config_path)\n",
    "        self.params = read_yaml(params_path)\n",
    "\n",
    "    def get_data_ingestion_config(self) -> DataIngestionConfig:\n",
    "        return DataIngestionConfig(\n",
    "            local_data_file=Path(self.config[\"data_ingestion\"][\"local_data_file\"])\n",
    "        )\n",
    "\n",
    "    def get_preprocessing_config(self) -> PreprocessingConfig:\n",
    "        return PreprocessingConfig(\n",
    "            target_column=self.params[\"preprocessing\"][\"target_column\"]\n",
    "        )\n",
    "\n",
    "    def get_prepare_base_model_config(self) -> PrepareBaseModelConfig:\n",
    "        model_config = self.config[\"prepare_base_model\"]\n",
    "        model_params = self.params[\"model\"]\n",
    "        return PrepareBaseModelConfig(\n",
    "            base_model_path=Path(model_config[\"base_model_path\"]),\n",
    "            updated_base_model_path=Path(model_config[\"updated_base_model_path\"]),\n",
    "            feature_columns=model_params[\"feature_columns\"],\n",
    "            target_column=model_params[\"target_column\"],\n",
    "            test_data_path=Path(model_config[\"test_data_path\"])\n",
    "        )\n"
   ]
  },
  {
   "cell_type": "code",
   "execution_count": 18,
   "id": "54c47e46",
   "metadata": {},
   "outputs": [
    {
     "name": "stdout",
     "output_type": "stream",
     "text": [
      "[2025-07-15 00:10:19,491: INFO: common: yaml file: config\\config.yaml loaded successfully]\n",
      "[2025-07-15 00:10:19,498: INFO: common: yaml file: params.yaml loaded successfully]\n"
     ]
    },
    {
     "ename": "ValueError",
     "evalue": "❌ No valid data left after cleaning. Please check your dataset and params.yaml.",
     "output_type": "error",
     "traceback": [
      "\u001b[31m---------------------------------------------------------------------------\u001b[39m",
      "\u001b[31mValueError\u001b[39m                                Traceback (most recent call last)",
      "\u001b[36mCell\u001b[39m\u001b[36m \u001b[39m\u001b[32mIn[18]\u001b[39m\u001b[32m, line 6\u001b[39m\n\u001b[32m      4\u001b[39m prepare_model = PrepareBaseModel(config=prepare_base_model_config)\n\u001b[32m      5\u001b[39m prepare_model.get_base_model()\n\u001b[32m----> \u001b[39m\u001b[32m6\u001b[39m \u001b[43mprepare_model\u001b[49m\u001b[43m.\u001b[49m\u001b[43mupdate_base_model\u001b[49m\u001b[43m(\u001b[49m\u001b[43m)\u001b[49m\n",
      "\u001b[36mCell\u001b[39m\u001b[36m \u001b[39m\u001b[32mIn[16]\u001b[39m\u001b[32m, line 48\u001b[39m, in \u001b[36mPrepareBaseModel.update_base_model\u001b[39m\u001b[34m(self)\u001b[39m\n\u001b[32m     46\u001b[39m \u001b[38;5;66;03m# 🚨 Guard: ensure dataset isn't empty\u001b[39;00m\n\u001b[32m     47\u001b[39m \u001b[38;5;28;01mif\u001b[39;00m df.empty:\n\u001b[32m---> \u001b[39m\u001b[32m48\u001b[39m     \u001b[38;5;28;01mraise\u001b[39;00m \u001b[38;5;167;01mValueError\u001b[39;00m(\u001b[33m\"\u001b[39m\u001b[33m❌ No valid data left after cleaning. Please check your dataset and params.yaml.\u001b[39m\u001b[33m\"\u001b[39m)\n\u001b[32m     50\u001b[39m \u001b[38;5;66;03m# ✅ Debug logs\u001b[39;00m\n\u001b[32m     51\u001b[39m \u001b[38;5;28mprint\u001b[39m(\u001b[33m\"\u001b[39m\u001b[33m✅ Final columns:\u001b[39m\u001b[33m\"\u001b[39m, df.columns.tolist())\n",
      "\u001b[31mValueError\u001b[39m: ❌ No valid data left after cleaning. Please check your dataset and params.yaml."
     ]
    }
   ],
   "source": [
    "\n",
    "config = ConfigurationManager()\n",
    "prepare_base_model_config = config.get_prepare_base_model_config()\n",
    "\n",
    "prepare_model = PrepareBaseModel(config=prepare_base_model_config)\n",
    "prepare_model.get_base_model()\n",
    "prepare_model.update_base_model()\n"
   ]
  }
 ],
 "metadata": {
  "kernelspec": {
   "display_name": "venv",
   "language": "python",
   "name": "python3"
  },
  "language_info": {
   "codemirror_mode": {
    "name": "ipython",
    "version": 3
   },
   "file_extension": ".py",
   "mimetype": "text/x-python",
   "name": "python",
   "nbconvert_exporter": "python",
   "pygments_lexer": "ipython3",
   "version": "3.11.7"
  }
 },
 "nbformat": 4,
 "nbformat_minor": 5
}
