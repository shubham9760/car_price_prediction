{
 "cells": [
  {
   "cell_type": "code",
   "execution_count": 34,
   "id": "6bf0eb12",
   "metadata": {},
   "outputs": [],
   "source": [
    "import os"
   ]
  },
  {
   "cell_type": "code",
   "execution_count": 35,
   "id": "d1b83057",
   "metadata": {},
   "outputs": [
    {
     "data": {
      "text/plain": [
       "'f:\\\\Self Learning\\\\car_price_prediction'"
      ]
     },
     "execution_count": 35,
     "metadata": {},
     "output_type": "execute_result"
    }
   ],
   "source": [
    "%pwd"
   ]
  },
  {
   "cell_type": "code",
   "execution_count": 5,
   "id": "5c0e24ce",
   "metadata": {},
   "outputs": [],
   "source": [
    "os.chdir(\"../\")"
   ]
  },
  {
   "cell_type": "code",
   "execution_count": 6,
   "id": "c5bb5f3c",
   "metadata": {},
   "outputs": [
    {
     "data": {
      "text/plain": [
       "'f:\\\\Self Learning\\\\car_price_prediction'"
      ]
     },
     "execution_count": 6,
     "metadata": {},
     "output_type": "execute_result"
    }
   ],
   "source": [
    "%pwd"
   ]
  },
  {
   "cell_type": "code",
   "execution_count": null,
   "id": "0ea0bdd9",
   "metadata": {},
   "outputs": [],
   "source": [
    "from dataclasses import dataclass\n",
    "from pathlib import Path\n",
    "from typing import List\n",
    "\n",
    "@dataclass(frozen=True)\n",
    "class DataIngestionConfig:\n",
    "    root_dir: Path\n",
    "    source_URL: str\n",
    "    local_data_file: Path\n",
    "    unzip_dir: Path\n",
    "    \n",
    "@dataclass\n",
    "class PrepareBaseModelConfig:\n",
    "    base_model_path: Path\n",
    "    updated_base_model_path: Path\n",
    "    feature_columns: List[str]\n",
    "    target_column: str\n",
    "    test_data_path: Path\n",
    "\n",
    "@dataclass\n",
    "class PreprocessingConfig:\n",
    "    target_column: str\n",
    "    test_size: float\n",
    "    random_state: int"
   ]
  },
  {
   "cell_type": "code",
   "execution_count": 37,
   "id": "865186d8",
   "metadata": {},
   "outputs": [],
   "source": [
    "from car_price_prediction.constants import *\n",
    "from car_price_prediction.utils.common import read_yaml, create_directories"
   ]
  },
  {
   "cell_type": "code",
   "execution_count": 49,
   "id": "c6a2294b",
   "metadata": {},
   "outputs": [],
   "source": [
    "class ConfigurationManager:\n",
    "    def __init__(\n",
    "        self, \n",
    "        config_filepath = CONFIG_FILE_PATH,\n",
    "        params_filepath = PARAMS_FILE_PATH):\n",
    "        self.config = read_yaml(config_filepath)\n",
    "        self.params = read_yaml(params_filepath)\n",
    "        create_directories([self.config.artifacts_root])\n",
    "\n",
    "    def get_preprocessing_config(self) -> PreprocessingConfig:\n",
    "        preprocessing = self.config.preprocessing\n",
    "        params = self.params\n",
    "\n",
    "        preprocessing_config = PreprocessingConfig(\n",
    "            target_column=preprocessing.target_column,\n",
    "            test_size=params.TEST_SIZE,\n",
    "            random_state=params.RANDOM_STATE\n",
    "        )\n",
    "\n",
    "        return preprocessing_config\n",
    "    \n",
    "    def get_data_ingestion_config(self) -> DataIngestionConfig:\n",
    "        config = self.config.data_ingestion\n",
    "\n",
    "        create_directories([config.root_dir])\n",
    "\n",
    "        data_ingestion_config = DataIngestionConfig(\n",
    "            root_dir=config.root_dir,\n",
    "            source_URL=config.source_URL,\n",
    "            local_data_file=config.local_data_file,\n",
    "            unzip_dir=config.unzip_dir \n",
    "        )\n",
    "\n",
    "        return data_ingestion_config\n",
    "\n",
    "    def get_prepare_base_model_config(self) -> PrepareBaseModelConfig:\n",
    "        config = self.config.prepare_base_model\n",
    "        model_params = self.params['model']\n",
    "        create_directories([config.root_dir])\n",
    "\n",
    "        prepare_base_model_config = PrepareBaseModelConfig(\n",
    "            root_dir=Path(config.root_dir),\n",
    "            base_model_path=Path(config.base_model_path),\n",
    "            feature_columns=model_params[\"feature_columns\"],\n",
    "            target_column=model_params[\"target_column\"],\n",
    "            updated_base_model_path=Path(config.updated_base_model_path),\n",
    "            params_learning_rate=self.params.LEARNING_RATE\n",
    "        )\n",
    "\n",
    "        return prepare_base_model_config\n"
   ]
  },
  {
   "cell_type": "code",
   "execution_count": 50,
   "id": "50fe4cb4",
   "metadata": {},
   "outputs": [],
   "source": [
    "import os\n",
    "import urllib.request as request\n",
    "from zipfile import ZipFile"
   ]
  },
  {
   "cell_type": "code",
   "execution_count": 51,
   "id": "f84029ac",
   "metadata": {},
   "outputs": [],
   "source": [
    "import os\n",
    "import joblib\n",
    "from sklearn.linear_model import LinearRegression\n",
    "from pathlib import Path\n",
    "from dataclasses import dataclass\n",
    "from typing import Optional\n",
    "import pandas as pd\n",
    "\n",
    "from car_price_prediction.entity.config_entity import PrepareBaseModelConfig\n",
    "\n",
    "class PrepareBaseModel:\n",
    "    def __init__(self, config: PrepareBaseModelConfig):\n",
    "        self.config = config\n",
    "        self.model = None\n",
    "        self.full_model = None\n",
    "\n",
    "    def get_base_model(self):\n",
    "        \"\"\"Initialize base Linear Regression model\"\"\"\n",
    "        self.model = LinearRegression()\n",
    "        self.save_model(self.config.base_model_path, self.model)\n",
    "\n",
    "    @staticmethod\n",
    "    def _prepare_full_model(model: LinearRegression, X: pd.DataFrame, y: pd.Series):\n",
    "        \"\"\"Train the linear regression model on the dataset\"\"\"\n",
    "        model.fit(X, y)\n",
    "        return model\n",
    "\n",
    "    def update_base_model(self):\n",
    "        \"\"\"Load data and train model\"\"\"\n",
    "        df = pd.read_csv(self.config.test_data_path)\n",
    "\n",
    "        X = df[self.config.feature_columns]\n",
    "        y = df[self.config.target_column]\n",
    "\n",
    "        self.full_model = self._prepare_full_model(\n",
    "            model=self.model,\n",
    "            X=X,\n",
    "            y=y\n",
    "        )\n",
    "        self.save_model(self.config.updated_base_model_path, self.full_model)\n",
    "\n",
    "    @staticmethod\n",
    "    def save_model(path: Path, model: LinearRegression):\n",
    "        \"\"\"Save model using joblib\"\"\"\n",
    "        joblib.dump(model, path)\n"
   ]
  },
  {
   "cell_type": "code",
   "execution_count": 52,
   "id": "2d2a52d1",
   "metadata": {},
   "outputs": [],
   "source": [
    "from car_price_prediction.entity.config_entity import (\n",
    "    DataIngestionConfig,\n",
    "    PreprocessingConfig,\n",
    "    PrepareBaseModelConfig\n",
    ")\n",
    "from car_price_prediction.utils.common import read_yaml\n",
    "from car_price_prediction.constants import CONFIG_FILE_PATH, PARAMS_FILE_PATH\n",
    "\n",
    "class ConfigurationManager:\n",
    "    def __init__(self, config_path=CONFIG_FILE_PATH, params_path=PARAMS_FILE_PATH):\n",
    "        self.config = read_yaml(config_path)\n",
    "        self.params = read_yaml(params_path)\n",
    "\n",
    "    def get_data_ingestion_config(self) -> DataIngestionConfig:\n",
    "        return DataIngestionConfig(\n",
    "            local_data_file=Path(self.config[\"data_ingestion\"][\"local_data_file\"])\n",
    "        )\n",
    "\n",
    "    def get_preprocessing_config(self) -> PreprocessingConfig:\n",
    "        return PreprocessingConfig(\n",
    "            target_column=self.params[\"preprocessing\"][\"target_column\"]\n",
    "        )\n",
    "\n",
    "    def get_prepare_base_model_config(self) -> PrepareBaseModelConfig:\n",
    "        model_config = self.config[\"prepare_base_model\"]\n",
    "        model_params = self.params[\"model\"]\n",
    "        return PrepareBaseModelConfig(\n",
    "            base_model_path=Path(model_config[\"base_model_path\"]),\n",
    "            updated_base_model_path=Path(model_config[\"updated_base_model_path\"]),\n",
    "            feature_columns=model_params[\"feature_columns\"],\n",
    "            target_column=model_params[\"target_column\"],\n",
    "            test_data_path=Path(model_config[\"test_data_path\"])\n",
    "        )\n"
   ]
  },
  {
   "cell_type": "code",
   "execution_count": 54,
   "id": "54c47e46",
   "metadata": {},
   "outputs": [
    {
     "ename": "ImportError",
     "evalue": "cannot import name 'PrepareBaseModel' from 'car_price_prediction.components.prepare_base_model' (F:\\Self Learning\\car_price_prediction\\src\\car_price_prediction\\components\\prepare_base_model.py)",
     "output_type": "error",
     "traceback": [
      "\u001b[31m---------------------------------------------------------------------------\u001b[39m",
      "\u001b[31mImportError\u001b[39m                               Traceback (most recent call last)",
      "\u001b[36mCell\u001b[39m\u001b[36m \u001b[39m\u001b[32mIn[54]\u001b[39m\u001b[32m, line 2\u001b[39m\n\u001b[32m      1\u001b[39m \u001b[38;5;28;01mfrom\u001b[39;00m\u001b[38;5;250m \u001b[39m\u001b[34;01mcar_price_prediction\u001b[39;00m\u001b[34;01m.\u001b[39;00m\u001b[34;01mconfig\u001b[39;00m\u001b[34;01m.\u001b[39;00m\u001b[34;01mconfiguration\u001b[39;00m\u001b[38;5;250m \u001b[39m\u001b[38;5;28;01mimport\u001b[39;00m ConfigurationManager\n\u001b[32m----> \u001b[39m\u001b[32m2\u001b[39m \u001b[38;5;28;01mfrom\u001b[39;00m\u001b[38;5;250m \u001b[39m\u001b[34;01mcar_price_prediction\u001b[39;00m\u001b[34;01m.\u001b[39;00m\u001b[34;01mcomponents\u001b[39;00m\u001b[34;01m.\u001b[39;00m\u001b[34;01mprepare_base_model\u001b[39;00m\u001b[38;5;250m \u001b[39m\u001b[38;5;28;01mimport\u001b[39;00m PrepareBaseModel\n\u001b[32m      4\u001b[39m config = ConfigurationManager()\n\u001b[32m      5\u001b[39m prepare_base_model_config = config.get_prepare_base_model_config()\n",
      "\u001b[31mImportError\u001b[39m: cannot import name 'PrepareBaseModel' from 'car_price_prediction.components.prepare_base_model' (F:\\Self Learning\\car_price_prediction\\src\\car_price_prediction\\components\\prepare_base_model.py)"
     ]
    }
   ],
   "source": [
    "from car_price_prediction.config.configuration import ConfigurationManager\n",
    "from car_price_prediction.components.prepare_base_model import PrepareBaseModel\n",
    "\n",
    "config = ConfigurationManager()\n",
    "prepare_base_model_config = config.get_prepare_base_model_config()\n",
    "\n",
    "prepare_model = PrepareBaseModel(config=prepare_base_model_config)\n",
    "prepare_model.get_base_model()\n",
    "prepare_model.update_base_model()\n"
   ]
  }
 ],
 "metadata": {
  "kernelspec": {
   "display_name": "venv",
   "language": "python",
   "name": "python3"
  },
  "language_info": {
   "codemirror_mode": {
    "name": "ipython",
    "version": 3
   },
   "file_extension": ".py",
   "mimetype": "text/x-python",
   "name": "python",
   "nbconvert_exporter": "python",
   "pygments_lexer": "ipython3",
   "version": "3.11.7"
  }
 },
 "nbformat": 4,
 "nbformat_minor": 5
}
