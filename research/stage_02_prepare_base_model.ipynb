{
 "cells": [
  {
   "cell_type": "code",
   "execution_count": 1,
   "id": "6bf0eb12",
   "metadata": {},
   "outputs": [],
   "source": [
    "import os"
   ]
  },
  {
   "cell_type": "code",
   "execution_count": 2,
   "id": "d1b83057",
   "metadata": {},
   "outputs": [
    {
     "data": {
      "text/plain": [
       "'d:\\\\Study\\\\Python\\\\ML\\\\car_price_prediction\\\\research'"
      ]
     },
     "execution_count": 2,
     "metadata": {},
     "output_type": "execute_result"
    }
   ],
   "source": [
    "%pwd"
   ]
  },
  {
   "cell_type": "code",
   "execution_count": 3,
   "id": "5c0e24ce",
   "metadata": {},
   "outputs": [],
   "source": [
    "os.chdir(\"../\")"
   ]
  },
  {
   "cell_type": "code",
   "execution_count": 4,
   "id": "c5bb5f3c",
   "metadata": {},
   "outputs": [
    {
     "data": {
      "text/plain": [
       "'d:\\\\Study\\\\Python\\\\ML\\\\car_price_prediction'"
      ]
     },
     "execution_count": 4,
     "metadata": {},
     "output_type": "execute_result"
    }
   ],
   "source": [
    "%pwd"
   ]
  },
  {
   "cell_type": "code",
   "execution_count": null,
   "id": "0ea0bdd9",
   "metadata": {},
   "outputs": [],
   "source": [
    "from dataclasses import dataclass\n",
    "from pathlib import Path\n",
    "\n",
    "@dataclass(frozen=True)\n",
    "class DataIngestionConfig:\n",
    "    root_dir: Path\n",
    "    source_URL: str\n",
    "    local_data_file: Path\n",
    "    unzip_dir: Path\n",
    "    \n",
    "@dataclass(frozen=True)\n",
    "class PrepareBaseModelConfig:\n",
    "    root_dir: Path\n",
    "    base_model_path: Path\n",
    "    updated_base_model_path: Path\n",
    "    params_image_size: list\n",
    "    params_learning_rate: float\n",
    "    params_include_top: bool\n",
    "    params_weights: str\n",
    "    params_classes: int\n",
    "\n",
    "@dataclass\n",
    "class PreprocessingConfig:\n",
    "    target_column: str\n",
    "    test_size: float\n",
    "    random_state: int"
   ]
  },
  {
   "cell_type": "code",
   "execution_count": 10,
   "id": "865186d8",
   "metadata": {},
   "outputs": [],
   "source": [
    "from car_price_prediction.constants import *\n",
    "from car_price_prediction.utils.common import read_yaml, create_directories"
   ]
  },
  {
   "cell_type": "code",
   "execution_count": 20,
   "id": "c6a2294b",
   "metadata": {},
   "outputs": [
    {
     "ename": "NameError",
     "evalue": "name 'DataIngestionConfig' is not defined",
     "output_type": "error",
     "traceback": [
      "\u001b[31m---------------------------------------------------------------------------\u001b[39m",
      "\u001b[31mNameError\u001b[39m                                 Traceback (most recent call last)",
      "\u001b[36mCell\u001b[39m\u001b[36m \u001b[39m\u001b[32mIn[20]\u001b[39m\u001b[32m, line 1\u001b[39m\n\u001b[32m----> \u001b[39m\u001b[32m1\u001b[39m \u001b[38;5;28;43;01mclass\u001b[39;49;00m\u001b[38;5;250;43m \u001b[39;49m\u001b[34;43;01mConfigurationManager\u001b[39;49;00m\u001b[43m:\u001b[49m\n\u001b[32m      2\u001b[39m \u001b[43m    \u001b[49m\u001b[38;5;28;43;01mdef\u001b[39;49;00m\u001b[38;5;250;43m \u001b[39;49m\u001b[34;43m__init__\u001b[39;49m\u001b[43m(\u001b[49m\n\u001b[32m      3\u001b[39m \u001b[43m        \u001b[49m\u001b[38;5;28;43mself\u001b[39;49m\u001b[43m,\u001b[49m\u001b[43m \u001b[49m\n\u001b[32m      4\u001b[39m \u001b[43m        \u001b[49m\u001b[43mconfig_filepath\u001b[49m\u001b[43m \u001b[49m\u001b[43m=\u001b[49m\u001b[43m \u001b[49m\u001b[43mCONFIG_FILE_PATH\u001b[49m\u001b[43m,\u001b[49m\n\u001b[32m      5\u001b[39m \u001b[43m        \u001b[49m\u001b[43mparams_filepath\u001b[49m\u001b[43m \u001b[49m\u001b[43m=\u001b[49m\u001b[43m \u001b[49m\u001b[43mPARAMS_FILE_PATH\u001b[49m\u001b[43m)\u001b[49m\u001b[43m:\u001b[49m\n\u001b[32m      6\u001b[39m \u001b[43m        \u001b[49m\u001b[38;5;28;43mself\u001b[39;49m\u001b[43m.\u001b[49m\u001b[43mconfig\u001b[49m\u001b[43m \u001b[49m\u001b[43m=\u001b[49m\u001b[43m \u001b[49m\u001b[43mread_yaml\u001b[49m\u001b[43m(\u001b[49m\u001b[43mconfig_filepath\u001b[49m\u001b[43m)\u001b[49m\n",
      "\u001b[36mCell\u001b[39m\u001b[36m \u001b[39m\u001b[32mIn[20]\u001b[39m\u001b[32m, line 22\u001b[39m, in \u001b[36mConfigurationManager\u001b[39m\u001b[34m()\u001b[39m\n\u001b[32m     14\u001b[39m     preprocessing_config = PreprocessingConfig(\n\u001b[32m     15\u001b[39m         target_column=preprocessing.target_column,\n\u001b[32m     16\u001b[39m         test_size=params.TEST_SIZE,\n\u001b[32m     17\u001b[39m         random_state=params.RANDOM_STATE\n\u001b[32m     18\u001b[39m     )\n\u001b[32m     20\u001b[39m     \u001b[38;5;28;01mreturn\u001b[39;00m preprocessing_config\n\u001b[32m---> \u001b[39m\u001b[32m22\u001b[39m \u001b[38;5;28;01mdef\u001b[39;00m\u001b[38;5;250m \u001b[39m\u001b[34mget_data_ingestion_config\u001b[39m(\u001b[38;5;28mself\u001b[39m) -> \u001b[43mDataIngestionConfig\u001b[49m:\n\u001b[32m     23\u001b[39m     config = \u001b[38;5;28mself\u001b[39m.config.data_ingestion\n\u001b[32m     25\u001b[39m     create_directories([config.root_dir])\n",
      "\u001b[31mNameError\u001b[39m: name 'DataIngestionConfig' is not defined"
     ]
    }
   ],
   "source": [
    "class ConfigurationManager:\n",
    "    def __init__(\n",
    "        self, \n",
    "        config_filepath = CONFIG_FILE_PATH,\n",
    "        params_filepath = PARAMS_FILE_PATH):\n",
    "        self.config = read_yaml(config_filepath)\n",
    "        self.params = read_yaml(params_filepath)\n",
    "        create_directories([self.config.artifacts_root])\n",
    "\n",
    "    def get_preprocessing_config(self) -> PreprocessingConfig:\n",
    "        preprocessing = self.config.preprocessing\n",
    "        params = self.params\n",
    "\n",
    "        preprocessing_config = PreprocessingConfig(\n",
    "            target_column=preprocessing.target_column,\n",
    "            test_size=params.TEST_SIZE,\n",
    "            random_state=params.RANDOM_STATE\n",
    "        )\n",
    "\n",
    "        return preprocessing_config\n",
    "    \n",
    "    def get_data_ingestion_config(self) -> DataIngestionConfig:\n",
    "        config = self.config.data_ingestion\n",
    "\n",
    "        create_directories([config.root_dir])\n",
    "\n",
    "        data_ingestion_config = DataIngestionConfig(\n",
    "            root_dir=config.root_dir,\n",
    "            source_URL=config.source_URL,\n",
    "            local_data_file=config.local_data_file,\n",
    "            unzip_dir=config.unzip_dir \n",
    "        )\n",
    "\n",
    "        return data_ingestion_config\n",
    "\n",
    "    def get_prepare_base_model_config(self) -> PrepareBaseModelConfig:\n",
    "        config = self.config.prepare_base_model\n",
    "        \n",
    "        create_directories([config.root_dir])\n",
    "\n",
    "        prepare_base_model_config = PrepareBaseModelConfig(\n",
    "            root_dir=Path(config.root_dir),\n",
    "            base_model_path=Path(config.base_model_path),\n",
    "            updated_base_model_path=Path(config.updated_base_model_path),\n",
    "            params_learning_rate=self.params.LEARNING_RATE\n",
    "        )\n",
    "\n",
    "        return prepare_base_model_config\n"
   ]
  },
  {
   "cell_type": "code",
   "execution_count": 12,
   "id": "50fe4cb4",
   "metadata": {},
   "outputs": [
    {
     "name": "stdout",
     "output_type": "stream",
     "text": [
      "[2025-07-12 10:32:05,751: INFO: font_manager: generated new fontManager]\n"
     ]
    }
   ],
   "source": [
    "import os\n",
    "import urllib.request as request\n",
    "from zipfile import ZipFile\n",
    "import tensorflow as tf"
   ]
  },
  {
   "cell_type": "code",
   "execution_count": 13,
   "id": "f84029ac",
   "metadata": {},
   "outputs": [],
   "source": [
    "from sklearn.linear_model import LinearRegression\n",
    "from sklearn.metrics import mean_squared_error, r2_score\n",
    "import joblib\n",
    "from pathlib import Path\n",
    "import pandas as pd\n",
    "from car_price_prediction import logger\n",
    "\n",
    "class PrepareLinearModel:\n",
    "    def __init__(self, config):\n",
    "        self.config = config\n",
    "        self.model = LinearRegression()\n",
    "\n",
    "    def train_model(self, X_train, y_train):\n",
    "        \"\"\"\n",
    "        Train the Linear Regression model and save it.\n",
    "        \"\"\"\n",
    "        self.model.fit(X_train, y_train)\n",
    "        logger.info(\"Linear Regression model trained successfully.\")\n",
    "        self.save_model(path=self.config.model_path, model=self.model)\n",
    "\n",
    "    def evaluate_model(self, X_test, y_test):\n",
    "        \"\"\"\n",
    "        Evaluate the model using MSE and R2 score.\n",
    "        \"\"\"\n",
    "        predictions = self.model.predict(X_test)\n",
    "        mse = mean_squared_error(y_test, predictions)\n",
    "        r2 = r2_score(y_test, predictions)\n",
    "        logger.info(f\"Model Evaluation - MSE: {mse:.4f}, R2 Score: {r2:.4f}\")\n",
    "        return mse, r2\n",
    "\n",
    "    @staticmethod\n",
    "    def save_model(path: Path, model: LinearRegression):\n",
    "        \"\"\"\n",
    "        Save the trained model to disk.\n",
    "        \"\"\"\n",
    "        joblib.dump(model, path)\n",
    "        logger.info(f\"Model saved at: {path}\")\n",
    "\n",
    "    @staticmethod\n",
    "    def load_model(path: Path) -> LinearRegression:\n",
    "        \"\"\"\n",
    "        Load a saved model from disk.\n",
    "        \"\"\"\n",
    "        model = joblib.load(path)\n",
    "        logger.info(f\"Model loaded from: {path}\")\n",
    "        return model"
   ]
  },
  {
   "cell_type": "code",
   "execution_count": 19,
   "id": "2d2a52d1",
   "metadata": {},
   "outputs": [
    {
     "name": "stdout",
     "output_type": "stream",
     "text": [
      "[2025-07-12 10:46:31,690: INFO: common: yaml file: config\\config.yaml loaded successfully]\n",
      "[2025-07-12 10:46:31,697: INFO: common: yaml file: params.yaml loaded successfully]\n",
      "[2025-07-12 10:46:31,698: INFO: common: created directory at: artifacts]\n"
     ]
    },
    {
     "ename": "AttributeError",
     "evalue": "'ConfigurationManager' object has no attribute 'get_data_ingestion_config'",
     "output_type": "error",
     "traceback": [
      "\u001b[31m---------------------------------------------------------------------------\u001b[39m",
      "\u001b[31mAttributeError\u001b[39m                            Traceback (most recent call last)",
      "\u001b[36mCell\u001b[39m\u001b[36m \u001b[39m\u001b[32mIn[19]\u001b[39m\u001b[32m, line 26\u001b[39m\n\u001b[32m     23\u001b[39m     prepare_base_model.update_base_model()\n\u001b[32m     25\u001b[39m \u001b[38;5;28;01mexcept\u001b[39;00m \u001b[38;5;167;01mException\u001b[39;00m \u001b[38;5;28;01mas\u001b[39;00m e:\n\u001b[32m---> \u001b[39m\u001b[32m26\u001b[39m     \u001b[38;5;28;01mraise\u001b[39;00m e\n",
      "\u001b[36mCell\u001b[39m\u001b[36m \u001b[39m\u001b[32mIn[19]\u001b[39m\u001b[32m, line 8\u001b[39m\n\u001b[32m      5\u001b[39m config = ConfigurationManager()\n\u001b[32m      7\u001b[39m \u001b[38;5;66;03m# Load dataset\u001b[39;00m\n\u001b[32m----> \u001b[39m\u001b[32m8\u001b[39m data_ingestion_config = \u001b[43mconfig\u001b[49m\u001b[43m.\u001b[49m\u001b[43mget_data_ingestion_config\u001b[49m()\n\u001b[32m      9\u001b[39m df = pd.read_csv(data_ingestion_config.local_data_file)\n\u001b[32m     11\u001b[39m \u001b[38;5;66;03m# Preprocessing\u001b[39;00m\n",
      "\u001b[31mAttributeError\u001b[39m: 'ConfigurationManager' object has no attribute 'get_data_ingestion_config'"
     ]
    }
   ],
   "source": [
    "import pandas as pd\n",
    "\n",
    "try:\n",
    "    # Configuration setup\n",
    "    config = ConfigurationManager()\n",
    "\n",
    "    # Load dataset\n",
    "    data_ingestion_config = config.get_data_ingestion_config()\n",
    "    df = pd.read_csv(data_ingestion_config.local_data_file)\n",
    "\n",
    "    # Preprocessing\n",
    "    preprocessing_config = config.get_preprocessing_config()\n",
    "    from car_price_prediction.utils.common import preprocess_data\n",
    "    X_train, X_test, y_train, y_test = preprocess_data(\n",
    "        df=df,\n",
    "        target_column=preprocessing_config.target_column\n",
    "    )\n",
    "\n",
    "    # Base model preparation\n",
    "    prepare_base_model_config = config.get_prepare_base_model_config()\n",
    "    prepare_base_model = PrepareBaseModel(config=prepare_base_model_config)\n",
    "    prepare_base_model.get_base_model()\n",
    "    prepare_base_model.update_base_model()\n",
    "\n",
    "except Exception as e:\n",
    "    raise e"
   ]
  }
 ],
 "metadata": {
  "kernelspec": {
   "display_name": "venv",
   "language": "python",
   "name": "python3"
  },
  "language_info": {
   "codemirror_mode": {
    "name": "ipython",
    "version": 3
   },
   "file_extension": ".py",
   "mimetype": "text/x-python",
   "name": "python",
   "nbconvert_exporter": "python",
   "pygments_lexer": "ipython3",
   "version": "3.12.4"
  }
 },
 "nbformat": 4,
 "nbformat_minor": 5
}
